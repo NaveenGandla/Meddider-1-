{
 "cells": [
  {
   "cell_type": "markdown",
   "metadata": {},
   "source": [
    "# Diabetic Retinopathy Classification(with 100 images )"
   ]
  },
  {
   "cell_type": "markdown",
   "metadata": {},
   "source": [
    "Importing all the required libraries "
   ]
  },
  {
   "cell_type": "code",
   "execution_count": 1,
   "metadata": {},
   "outputs": [],
   "source": [
    "import numpy as np # linear algebra\n",
    "import pandas as pd # data processing, CSV file I/O (e.g. pd.read_csv)\n",
    "import os\n",
    "import random\n",
    "import sys\n",
    "import cv2\n",
    "import matplotlib\n",
    "from subprocess import check_output"
   ]
  },
  {
   "cell_type": "code",
   "execution_count": 2,
   "metadata": {},
   "outputs": [
    {
     "name": "stderr",
     "output_type": "stream",
     "text": [
      "Using TensorFlow backend.\n"
     ]
    }
   ],
   "source": [
    "from keras.models import Sequential\n",
    "from keras.layers import Dense, Conv2D, MaxPooling2D, Dropout, Flatten\n",
    "from keras.preprocessing.image import ImageDataGenerator, array_to_img, img_to_array, load_img\n",
    "from keras.optimizers import Adam\n",
    "from sklearn.model_selection import train_test_split\n",
    "from keras.utils import to_categorical"
   ]
  },
  {
   "cell_type": "code",
   "execution_count": 3,
   "metadata": {},
   "outputs": [],
   "source": [
    "data = pd.read_csv(\"G:\\messider 1/Copy of Annotation_Base11.csv\")"
   ]
  },
  {
   "cell_type": "code",
   "execution_count": 4,
   "metadata": {},
   "outputs": [
    {
     "data": {
      "text/html": [
       "<div>\n",
       "<style scoped>\n",
       "    .dataframe tbody tr th:only-of-type {\n",
       "        vertical-align: middle;\n",
       "    }\n",
       "\n",
       "    .dataframe tbody tr th {\n",
       "        vertical-align: top;\n",
       "    }\n",
       "\n",
       "    .dataframe thead th {\n",
       "        text-align: right;\n",
       "    }\n",
       "</style>\n",
       "<table border=\"1\" class=\"dataframe\">\n",
       "  <thead>\n",
       "    <tr style=\"text-align: right;\">\n",
       "      <th></th>\n",
       "      <th>Image name</th>\n",
       "      <th>Ophthalmologic department</th>\n",
       "      <th>Retinopathy grade</th>\n",
       "      <th>Risk of macular edima</th>\n",
       "    </tr>\n",
       "  </thead>\n",
       "  <tbody>\n",
       "    <tr>\n",
       "      <th>0</th>\n",
       "      <td>20051019_38557_0100_PP.tif</td>\n",
       "      <td>Service Ophtalmologie Lariboisière</td>\n",
       "      <td>3</td>\n",
       "      <td>1</td>\n",
       "    </tr>\n",
       "    <tr>\n",
       "      <th>1</th>\n",
       "      <td>20051020_43808_0100_PP.tif</td>\n",
       "      <td>Service Ophtalmologie Lariboisière</td>\n",
       "      <td>0</td>\n",
       "      <td>0</td>\n",
       "    </tr>\n",
       "    <tr>\n",
       "      <th>2</th>\n",
       "      <td>20051020_43832_0100_PP.tif</td>\n",
       "      <td>Service Ophtalmologie Lariboisière</td>\n",
       "      <td>1</td>\n",
       "      <td>0</td>\n",
       "    </tr>\n",
       "    <tr>\n",
       "      <th>3</th>\n",
       "      <td>20051020_43882_0100_PP.tif</td>\n",
       "      <td>Service Ophtalmologie Lariboisière</td>\n",
       "      <td>2</td>\n",
       "      <td>0</td>\n",
       "    </tr>\n",
       "    <tr>\n",
       "      <th>4</th>\n",
       "      <td>20051020_43906_0100_PP.tif</td>\n",
       "      <td>Service Ophtalmologie Lariboisière</td>\n",
       "      <td>3</td>\n",
       "      <td>2</td>\n",
       "    </tr>\n",
       "  </tbody>\n",
       "</table>\n",
       "</div>"
      ],
      "text/plain": [
       "                   Image name           Ophthalmologic department  \\\n",
       "0  20051019_38557_0100_PP.tif  Service Ophtalmologie Lariboisière   \n",
       "1  20051020_43808_0100_PP.tif  Service Ophtalmologie Lariboisière   \n",
       "2  20051020_43832_0100_PP.tif  Service Ophtalmologie Lariboisière   \n",
       "3  20051020_43882_0100_PP.tif  Service Ophtalmologie Lariboisière   \n",
       "4  20051020_43906_0100_PP.tif  Service Ophtalmologie Lariboisière   \n",
       "\n",
       "   Retinopathy grade  Risk of macular edima  \n",
       "0                  3                      1  \n",
       "1                  0                      0  \n",
       "2                  1                      0  \n",
       "3                  2                      0  \n",
       "4                  3                      2  "
      ]
     },
     "execution_count": 4,
     "metadata": {},
     "output_type": "execute_result"
    }
   ],
   "source": [
    "data.head()"
   ]
  },
  {
   "cell_type": "markdown",
   "metadata": {},
   "source": [
    "Creating target column "
   ]
  },
  {
   "cell_type": "code",
   "execution_count": 5,
   "metadata": {},
   "outputs": [],
   "source": [
    "data[\"Results\"] = np.where((data[\"Retinopathy grade\"]==0) & (data[\"Risk of macular edima\"]==0),0,1)"
   ]
  },
  {
   "cell_type": "code",
   "execution_count": 6,
   "metadata": {},
   "outputs": [],
   "source": [
    "train_labels = data[[\"Image name\",\"Results\"]]"
   ]
  },
  {
   "cell_type": "code",
   "execution_count": 7,
   "metadata": {},
   "outputs": [
    {
     "name": "stdout",
     "output_type": "stream",
     "text": [
      "(100, 2)\n",
      "                   Image name  Results\n",
      "0  20051019_38557_0100_PP.tif        1\n",
      "1  20051020_43808_0100_PP.tif        0\n"
     ]
    }
   ],
   "source": [
    "print(train_labels.shape)\n",
    "print(train_labels.head(2))"
   ]
  },
  {
   "cell_type": "code",
   "execution_count": null,
   "metadata": {},
   "outputs": [],
   "source": []
  },
  {
   "cell_type": "code",
   "execution_count": 8,
   "metadata": {},
   "outputs": [],
   "source": [
    "NUM_CLASSES = 2\n",
    "# we need images of same size so we convert them into the size\n",
    "WIDTH = 200\n",
    "HEIGHT = 200\n",
    "DEPTH = 3\n",
    "inputShape = (HEIGHT, WIDTH, DEPTH)\n",
    "# initialize number of epochs to train for, initial learning rate and batch size\n",
    "EPOCHS = 15\n",
    "INIT_LR = 1e-3\n",
    "Batch = 8\n",
    "#global variables\n",
    "ImageNameDataHash = {}\n",
    "uniquePatientIDList = []"
   ]
  },
  {
   "cell_type": "code",
   "execution_count": 9,
   "metadata": {},
   "outputs": [],
   "source": [
    "def readTrainData(trainDir):\n",
    "    global ImageNameDataHash\n",
    "    # loop over the input images\n",
    "    images = os.listdir(trainDir)\n",
    "    print(\"Number of files in \" + trainDir + \" is \" + str(len(images)))\n",
    "    for imageFileName in images:\n",
    "        if (imageFileName == \"trainLabels.csv\"):\n",
    "            continue\n",
    "        # load the image, pre-process it, and store it in the data list\n",
    "        imageFullPath = os.path.join(os.path.sep, trainDir, imageFileName)\n",
    "        #print(imageFullPath)\n",
    "        img = load_img(imageFullPath)\n",
    "        arr = img_to_array(img)  # Numpy array with shape (233,233,3)\n",
    "        dim1 = arr.shape[0]\n",
    "        dim2 = arr.shape[1]\n",
    "        dim3 = arr.shape[2]\n",
    "        if (dim1 < HEIGHT or dim2 < WIDTH or dim3 < DEPTH):\n",
    "            print(\"Error image dimensions are less than expected \"+str(arr.shape))\n",
    "        arr = cv2.resize(arr, (HEIGHT,WIDTH)) #Numpy array with shape (HEIGHT, WIDTH,3)\n",
    "        #print(arr.shape) # 128,128,3\n",
    "        dim1 = arr.shape[0]\n",
    "        dim2 = arr.shape[1]\n",
    "        dim3 = arr.shape[2]\n",
    "        if (dim1 != HEIGHT or dim2 != WIDTH or dim3 != DEPTH):\n",
    "            print(\"Error after resize, image dimensions are not equal to expected \"+str(arr.shape))\n",
    "        #print(type(arr))\n",
    "        # scale the raw pixel intensities to the range [0, 1] - TBD TEST\n",
    "        arr = np.array(arr, dtype=\"float\") / 255.0\n",
    "        imageFileName = imageFileName.replace('.jpeg','')\n",
    "        ImageNameDataHash[str(imageFileName)] = np.array(arr) \n",
    "    return"
   ]
  },
  {
   "cell_type": "code",
   "execution_count": 10,
   "metadata": {},
   "outputs": [
    {
     "name": "stdout",
     "output_type": "stream",
     "text": [
      "Loading images at...2019-03-06 16:37:19.720304\n",
      "Number of files in G:\\messider 1\\Base11 is 100\n",
      "Loaded 100 images at...2019-03-06 16:37:56.915688\n"
     ]
    }
   ],
   "source": [
    "from datetime import datetime\n",
    "print(\"Loading images at...\"+ str(datetime.now()))\n",
    "sys.stdout.flush()\n",
    "readTrainData(\"G:\\messider 1\\Base11\")\n",
    "print(\"Loaded \" + str(len(ImageNameDataHash)) + \" images at...\"+ str(datetime.now()))"
   ]
  },
  {
   "cell_type": "code",
   "execution_count": 11,
   "metadata": {},
   "outputs": [
    {
     "name": "stdout",
     "output_type": "stream",
     "text": [
      "Index(['Image name', 'Results'], dtype='object')\n"
     ]
    }
   ],
   "source": [
    "df = train_labels.copy()\n",
    "print(df.columns)"
   ]
  },
  {
   "cell_type": "code",
   "execution_count": 12,
   "metadata": {},
   "outputs": [
    {
     "name": "stdout",
     "output_type": "stream",
     "text": [
      "['Image name', 'data']\n",
      "100\n"
     ]
    }
   ],
   "source": [
    "#convert hash to dataframe\n",
    "imageNameArr = []\n",
    "dataArr = []\n",
    "for index, row in df.iterrows():\n",
    "    key = str(row[0])\n",
    "    if key in ImageNameDataHash:\n",
    "        imageNameArr.append(key)\n",
    "        dataArr.append(np.array(ImageNameDataHash[key])) \n",
    "\n",
    "df2 = pd.DataFrame({'Image name': imageNameArr, 'data': dataArr})\n",
    "df2_header_list = list(df2.columns) \n",
    "print(df2_header_list) \n",
    "print(len(df2)) "
   ]
  },
  {
   "cell_type": "code",
   "execution_count": 13,
   "metadata": {},
   "outputs": [
    {
     "data": {
      "text/html": [
       "<div>\n",
       "<style scoped>\n",
       "    .dataframe tbody tr th:only-of-type {\n",
       "        vertical-align: middle;\n",
       "    }\n",
       "\n",
       "    .dataframe tbody tr th {\n",
       "        vertical-align: top;\n",
       "    }\n",
       "\n",
       "    .dataframe thead th {\n",
       "        text-align: right;\n",
       "    }\n",
       "</style>\n",
       "<table border=\"1\" class=\"dataframe\">\n",
       "  <thead>\n",
       "    <tr style=\"text-align: right;\">\n",
       "      <th></th>\n",
       "      <th>Image name</th>\n",
       "      <th>data</th>\n",
       "    </tr>\n",
       "  </thead>\n",
       "  <tbody>\n",
       "    <tr>\n",
       "      <th>0</th>\n",
       "      <td>20051019_38557_0100_PP.tif</td>\n",
       "      <td>[[[0.0027529410287445667, 0.0, 0.0027529410287...</td>\n",
       "    </tr>\n",
       "    <tr>\n",
       "      <th>1</th>\n",
       "      <td>20051020_43808_0100_PP.tif</td>\n",
       "      <td>[[[0.00392156862745098, 0.0, 0.003921568627450...</td>\n",
       "    </tr>\n",
       "    <tr>\n",
       "      <th>2</th>\n",
       "      <td>20051020_43832_0100_PP.tif</td>\n",
       "      <td>[[[0.00861960766362209, 0.0007764705840279074,...</td>\n",
       "    </tr>\n",
       "    <tr>\n",
       "      <th>3</th>\n",
       "      <td>20051020_43882_0100_PP.tif</td>\n",
       "      <td>[[[0.0, 0.0, 0.0], [0.003560784283806296, 0.0,...</td>\n",
       "    </tr>\n",
       "    <tr>\n",
       "      <th>4</th>\n",
       "      <td>20051020_43906_0100_PP.tif</td>\n",
       "      <td>[[[0.0023372549636691223, 0.0, 0.0023372549636...</td>\n",
       "    </tr>\n",
       "  </tbody>\n",
       "</table>\n",
       "</div>"
      ],
      "text/plain": [
       "                   Image name  \\\n",
       "0  20051019_38557_0100_PP.tif   \n",
       "1  20051020_43808_0100_PP.tif   \n",
       "2  20051020_43832_0100_PP.tif   \n",
       "3  20051020_43882_0100_PP.tif   \n",
       "4  20051020_43906_0100_PP.tif   \n",
       "\n",
       "                                                data  \n",
       "0  [[[0.0027529410287445667, 0.0, 0.0027529410287...  \n",
       "1  [[[0.00392156862745098, 0.0, 0.003921568627450...  \n",
       "2  [[[0.00861960766362209, 0.0007764705840279074,...  \n",
       "3  [[[0.0, 0.0, 0.0], [0.003560784283806296, 0.0,...  \n",
       "4  [[[0.0023372549636691223, 0.0, 0.0023372549636...  "
      ]
     },
     "execution_count": 13,
     "metadata": {},
     "output_type": "execute_result"
    }
   ],
   "source": [
    "df2.head()"
   ]
  },
  {
   "cell_type": "code",
   "execution_count": 14,
   "metadata": {},
   "outputs": [
    {
     "name": "stdout",
     "output_type": "stream",
     "text": [
      "Image name    object\n",
      "data          object\n",
      "dtype: object\n",
      "Image name    object\n",
      "Results        int32\n",
      "dtype: object\n"
     ]
    }
   ],
   "source": [
    "if len(df) != len(df2):\n",
    "    print(\"Error length of df != df2\")\n",
    "    \n",
    "for idx in range(0,len(df)):\n",
    "    if (df.loc[df.index[idx], 'Image name'] != df2.loc[df2.index[idx], 'Image name']):\n",
    "        print(\"Error \" + df.loc[df.index[idx], 'Image name'] +\"==\" + df2.loc[df2.index[idx], 'data'])\n",
    "        \n",
    "print(df2.dtypes)\n",
    "print(df.dtypes)"
   ]
  },
  {
   "cell_type": "code",
   "execution_count": 15,
   "metadata": {},
   "outputs": [
    {
     "name": "stdout",
     "output_type": "stream",
     "text": [
      "['Image name', 'data', 'Results']\n",
      "100\n",
      "                    Image name  \\\n",
      "19  20051020_44923_0100_PP.tif   \n",
      "\n",
      "                                                 data  Results  \n",
      "19  [[[0.004784313837687174, 0.0, 0.00478431383768...        1  \n"
     ]
    }
   ],
   "source": [
    "df= pd.merge(df2, df, on=\"Image name\", how='outer')\n",
    "df_header_list = list(df.columns) \n",
    "print(df_header_list) \n",
    "print(len(df)) \n",
    "print(df.sample())"
   ]
  },
  {
   "cell_type": "code",
   "execution_count": 16,
   "metadata": {},
   "outputs": [
    {
     "data": {
      "text/plain": [
       "Index(['Image name', 'data', 'Results'], dtype='object')"
      ]
     },
     "execution_count": 16,
     "metadata": {},
     "output_type": "execute_result"
    }
   ],
   "source": [
    "df.columns"
   ]
  },
  {
   "cell_type": "code",
   "execution_count": 17,
   "metadata": {},
   "outputs": [
    {
     "name": "stdout",
     "output_type": "stream",
     "text": [
      "[[[0.00275294 0.         0.00275294]\n",
      "  [0.00488627 0.         0.00488627]\n",
      "  [0.00086275 0.         0.00086275]\n",
      "  ...\n",
      "  [0.00478431 0.         0.00478431]\n",
      "  [0.00906667 0.00214118 0.00906667]\n",
      "  [0.00086275 0.         0.00086275]]\n",
      "\n",
      " [[0.00470588 0.00039216 0.00470588]\n",
      "  [0.00197647 0.0004     0.00197647]\n",
      "  [0.01043137 0.0032549  0.01043137]\n",
      "  ...\n",
      "  [0.00266667 0.         0.00266667]\n",
      "  [0.00421961 0.         0.00421961]\n",
      "  [0.00784314 0.         0.00784314]]\n",
      "\n",
      " [[0.00705882 0.         0.00705882]\n",
      "  [0.01141177 0.00380392 0.01141177]\n",
      "  [0.         0.         0.        ]\n",
      "  ...\n",
      "  [0.00705882 0.         0.00705882]\n",
      "  [0.00117647 0.         0.00117647]\n",
      "  [0.00070588 0.         0.00070588]]\n",
      "\n",
      " ...\n",
      "\n",
      " [[0.01023529 0.00317647 0.01023529]\n",
      "  [0.00862745 0.00235294 0.00862745]\n",
      "  [0.00882353 0.00176471 0.00882353]\n",
      "  ...\n",
      "  [0.00196078 0.         0.00196078]\n",
      "  [0.00654902 0.00117647 0.00654902]\n",
      "  [0.0014902  0.         0.0014902 ]]\n",
      "\n",
      " [[0.00658824 0.00133333 0.00658824]\n",
      "  [0.00517647 0.         0.00517647]\n",
      "  [0.00784314 0.00129412 0.00784314]\n",
      "  ...\n",
      "  [0.00584314 0.00129412 0.00584314]\n",
      "  [0.00235294 0.         0.00235294]\n",
      "  [0.00745098 0.         0.00745098]]\n",
      "\n",
      " [[0.01562353 0.00550588 0.01562353]\n",
      "  [0.00941177 0.0027451  0.00941177]\n",
      "  [0.00937255 0.00196078 0.00937255]\n",
      "  ...\n",
      "  [0.01003922 0.00305882 0.01003922]\n",
      "  [0.00722353 0.00152157 0.00722353]\n",
      "  [0.         0.         0.        ]]]\n",
      "<class 'numpy.ndarray'>\n",
      "(200, 200, 3)\n"
     ]
    }
   ],
   "source": [
    "sample0 = df.loc[df.index[0], 'data']\n",
    "print(sample0)\n",
    "print(type(sample0)) \n",
    "print(sample0.shape) "
   ]
  },
  {
   "cell_type": "code",
   "execution_count": 18,
   "metadata": {},
   "outputs": [
    {
     "data": {
      "text/plain": [
       "<Figure size 640x480 with 1 Axes>"
      ]
     },
     "metadata": {},
     "output_type": "display_data"
    },
    {
     "name": "stdout",
     "output_type": "stream",
     "text": [
      "Sample Image\n"
     ]
    }
   ],
   "source": [
    "from matplotlib import pyplot as plt\n",
    "plt.imshow(sample0,)\n",
    "plt.show()\n",
    "print(\"Sample Image\")"
   ]
  },
  {
   "cell_type": "code",
   "execution_count": 19,
   "metadata": {},
   "outputs": [],
   "source": [
    "X = df['data']\n",
    "Y = df['Results']\n"
   ]
  },
  {
   "cell_type": "code",
   "execution_count": 20,
   "metadata": {},
   "outputs": [
    {
     "name": "stdout",
     "output_type": "stream",
     "text": [
      "(100,)\n",
      "(100,)\n",
      "Index(['Image name', 'data', 'Results'], dtype='object')\n"
     ]
    }
   ],
   "source": [
    "print(X.shape)\n",
    "print(Y.shape)\n",
    "print(df.columns)"
   ]
  },
  {
   "cell_type": "code",
   "execution_count": 21,
   "metadata": {},
   "outputs": [],
   "source": [
    "from sklearn.model_selection import train_test_split\n",
    "trainX, valX, trainY, valY = train_test_split(X,Y,test_size=0.25, random_state=10)"
   ]
  },
  {
   "cell_type": "code",
   "execution_count": 22,
   "metadata": {},
   "outputs": [
    {
     "name": "stdout",
     "output_type": "stream",
     "text": [
      "Trainx shape (75,)\n",
      "valX shape (25,)\n",
      "trainY shape (75,)\n",
      "valY shape (25,)\n"
     ]
    }
   ],
   "source": [
    "print(\"Trainx shape\",trainX.shape)\n",
    "print(\"valX shape\",valX.shape)\n",
    "print(\"trainY shape\",trainY.shape)\n",
    "print(\"valY shape\",valY.shape)"
   ]
  },
  {
   "cell_type": "code",
   "execution_count": 23,
   "metadata": {},
   "outputs": [],
   "source": [
    "#trainY =  to_categorical(trainY, num_classes=NUM_CLASSES)\n",
    "#valY =  to_categorical(valY, num_classes=NUM_CLASSES)"
   ]
  },
  {
   "cell_type": "code",
   "execution_count": 24,
   "metadata": {},
   "outputs": [
    {
     "name": "stdout",
     "output_type": "stream",
     "text": [
      "Generating images...\n"
     ]
    }
   ],
   "source": [
    "#construct the image generator for data augmentation\n",
    "print(\"Generating images...\")\n",
    "sys.stdout.flush()\n",
    "aug = ImageDataGenerator(rotation_range=30, width_shift_range=0.1, \\\n",
    "    height_shift_range=0.1, shear_range=0.2, zoom_range=0.2,\\\n",
    "    horizontal_flip=True, fill_mode=\"nearest\")"
   ]
  },
  {
   "cell_type": "code",
   "execution_count": null,
   "metadata": {},
   "outputs": [],
   "source": []
  },
  {
   "cell_type": "code",
   "execution_count": 25,
   "metadata": {},
   "outputs": [],
   "source": [
    "trainX = pd.DataFrame(trainX)\n",
    "valX = pd.DataFrame(valX)\n",
    "trainY = pd.DataFrame(trainY)\n",
    "valY = pd.DataFrame(valY)"
   ]
  },
  {
   "cell_type": "code",
   "execution_count": 26,
   "metadata": {},
   "outputs": [
    {
     "data": {
      "text/html": [
       "<div>\n",
       "<style scoped>\n",
       "    .dataframe tbody tr th:only-of-type {\n",
       "        vertical-align: middle;\n",
       "    }\n",
       "\n",
       "    .dataframe tbody tr th {\n",
       "        vertical-align: top;\n",
       "    }\n",
       "\n",
       "    .dataframe thead th {\n",
       "        text-align: right;\n",
       "    }\n",
       "</style>\n",
       "<table border=\"1\" class=\"dataframe\">\n",
       "  <thead>\n",
       "    <tr style=\"text-align: right;\">\n",
       "      <th></th>\n",
       "      <th>data</th>\n",
       "    </tr>\n",
       "  </thead>\n",
       "  <tbody>\n",
       "    <tr>\n",
       "      <th>89</th>\n",
       "      <td>[[[0.0, 0.0, 0.0], [0.0023529412699680704, 0.0...</td>\n",
       "    </tr>\n",
       "    <tr>\n",
       "      <th>28</th>\n",
       "      <td>[[[0.00392156862745098, 0.0, 0.003921568627450...</td>\n",
       "    </tr>\n",
       "    <tr>\n",
       "      <th>64</th>\n",
       "      <td>[[[0.0017254901867286832, 0.0, 0.0017254901867...</td>\n",
       "    </tr>\n",
       "    <tr>\n",
       "      <th>15</th>\n",
       "      <td>[[[0.006117646834429572, 0.0, 0.00611764683442...</td>\n",
       "    </tr>\n",
       "    <tr>\n",
       "      <th>9</th>\n",
       "      <td>[[[0.0, 0.0, 0.0], [0.0012078431307100783, 0.0...</td>\n",
       "    </tr>\n",
       "  </tbody>\n",
       "</table>\n",
       "</div>"
      ],
      "text/plain": [
       "                                                 data\n",
       "89  [[[0.0, 0.0, 0.0], [0.0023529412699680704, 0.0...\n",
       "28  [[[0.00392156862745098, 0.0, 0.003921568627450...\n",
       "64  [[[0.0017254901867286832, 0.0, 0.0017254901867...\n",
       "15  [[[0.006117646834429572, 0.0, 0.00611764683442...\n",
       "9   [[[0.0, 0.0, 0.0], [0.0012078431307100783, 0.0..."
      ]
     },
     "execution_count": 26,
     "metadata": {},
     "output_type": "execute_result"
    }
   ],
   "source": [
    "trainX.tail()"
   ]
  },
  {
   "cell_type": "code",
   "execution_count": 27,
   "metadata": {},
   "outputs": [
    {
     "name": "stdout",
     "output_type": "stream",
     "text": [
      "Reshaping trainX at...2019-03-06 16:38:24.726655\n",
      "<class 'pandas.core.frame.DataFrame'>\n",
      "(75, 1)\n",
      "(75, 200, 200, 3)\n",
      "Reshaped trainX at...2019-03-06 16:38:24.726655\n"
     ]
    }
   ],
   "source": [
    "print(\"Reshaping trainX at...\"+ str(datetime.now()))\n",
    "print(type(trainX)) # <class 'pandas.core.series.Series'>\n",
    "print(trainX.shape) \n",
    "from numpy import zeros\n",
    "Xtrain = np.zeros([75,HEIGHT, WIDTH, DEPTH])\n",
    "#for i in range(75): \n",
    "    #Xtrain[i] = trainX[i]\n",
    "print(Xtrain.shape)\n",
    "print(\"Reshaped trainX at...\"+ str(datetime.now()))"
   ]
  },
  {
   "cell_type": "code",
   "execution_count": 28,
   "metadata": {},
   "outputs": [
    {
     "name": "stdout",
     "output_type": "stream",
     "text": [
      "Reshaping trainX at...2019-03-06 16:38:24.820085\n",
      "<class 'pandas.core.frame.DataFrame'>\n",
      "(25, 1)\n",
      "(25, 200, 200, 3)\n",
      "Reshaped trainX at...2019-03-06 16:38:24.835709\n"
     ]
    }
   ],
   "source": [
    "print(\"Reshaping trainX at...\"+ str(datetime.now()))\n",
    "print(type(valX)) # <class 'pandas.core.series.Series'>\n",
    "print(valX.shape) \n",
    "from numpy import zeros\n",
    "valX = np.zeros([25,HEIGHT, WIDTH, DEPTH])\n",
    "#for i in range(75): \n",
    "    #Xtrain[i] = trainX[i]\n",
    "print(valX.shape)\n",
    "print(\"Reshaped trainX at...\"+ str(datetime.now()))"
   ]
  },
  {
   "cell_type": "markdown",
   "metadata": {},
   "source": [
    "# CNN model : self training "
   ]
  },
  {
   "cell_type": "code",
   "execution_count": 29,
   "metadata": {},
   "outputs": [],
   "source": [
    "def createModel():\n",
    "    model = Sequential()\n",
    "    # first set of CONV => RELU => MAX POOL layers\n",
    "    model.add(Conv2D(32, (3, 3), padding='same', activation='relu', input_shape=inputShape))\n",
    "    model.add(Conv2D(32, (3, 3), activation='relu'))\n",
    "    model.add(MaxPooling2D(pool_size=(2, 2)))\n",
    "    model.add(Dropout(0.25))\n",
    "    \n",
    "    model.add(Conv2D(64, (3, 3), padding='same', activation='relu'))\n",
    "    model.add(Conv2D(64, (3, 3), activation='relu'))\n",
    "    model.add(MaxPooling2D(pool_size=(2, 2)))\n",
    "    model.add(Dropout(0.25))\n",
    "    \n",
    "    model.add(Conv2D(64, (3, 3), padding='same', activation='relu'))\n",
    "    model.add(Conv2D(64, (3, 3), activation='relu'))\n",
    "    model.add(MaxPooling2D(pool_size=(2, 2)))\n",
    "    model.add(Dropout(0.25))\n",
    "    \n",
    "    model.add(Flatten())\n",
    "    model.add(Dense(512, activation='relu'))\n",
    "    model.add(Dropout(0.5))\n",
    "    model.add(Dense(output_dim=1, activation='sigmoid'))\n",
    "    # returns our fully constructed deep learning + Keras image classifier \n",
    "    opt = Adam(lr=INIT_LR, decay=INIT_LR / EPOCHS)\n",
    "        # use categorical_crossentropy if there are more than two classes\n",
    "    model.compile(loss=\"binary_crossentropy\", optimizer=opt, metrics=[\"accuracy\"])\n",
    "    return model"
   ]
  },
  {
   "cell_type": "code",
   "execution_count": 30,
   "metadata": {},
   "outputs": [
    {
     "name": "stdout",
     "output_type": "stream",
     "text": [
      "compiling model...\n",
      "_________________________________________________________________\n",
      "Layer (type)                 Output Shape              Param #   \n",
      "=================================================================\n",
      "conv2d_1 (Conv2D)            (None, 200, 200, 32)      896       \n",
      "_________________________________________________________________\n",
      "conv2d_2 (Conv2D)            (None, 198, 198, 32)      9248      \n",
      "_________________________________________________________________\n",
      "max_pooling2d_1 (MaxPooling2 (None, 99, 99, 32)        0         \n",
      "_________________________________________________________________\n",
      "dropout_1 (Dropout)          (None, 99, 99, 32)        0         \n",
      "_________________________________________________________________\n",
      "conv2d_3 (Conv2D)            (None, 99, 99, 64)        18496     \n",
      "_________________________________________________________________\n",
      "conv2d_4 (Conv2D)            (None, 97, 97, 64)        36928     \n",
      "_________________________________________________________________\n",
      "max_pooling2d_2 (MaxPooling2 (None, 48, 48, 64)        0         \n",
      "_________________________________________________________________\n",
      "dropout_2 (Dropout)          (None, 48, 48, 64)        0         \n",
      "_________________________________________________________________\n",
      "conv2d_5 (Conv2D)            (None, 48, 48, 64)        36928     \n",
      "_________________________________________________________________\n",
      "conv2d_6 (Conv2D)            (None, 46, 46, 64)        36928     \n",
      "_________________________________________________________________\n",
      "max_pooling2d_3 (MaxPooling2 (None, 23, 23, 64)        0         \n",
      "_________________________________________________________________\n",
      "dropout_3 (Dropout)          (None, 23, 23, 64)        0         \n",
      "_________________________________________________________________\n",
      "flatten_1 (Flatten)          (None, 33856)             0         \n",
      "_________________________________________________________________\n",
      "dense_1 (Dense)              (None, 512)               17334784  \n",
      "_________________________________________________________________\n",
      "dropout_4 (Dropout)          (None, 512)               0         \n",
      "_________________________________________________________________\n",
      "dense_2 (Dense)              (None, 1)                 513       \n",
      "=================================================================\n",
      "Total params: 17,474,721\n",
      "Trainable params: 17,474,721\n",
      "Non-trainable params: 0\n",
      "_________________________________________________________________\n"
     ]
    },
    {
     "name": "stderr",
     "output_type": "stream",
     "text": [
      "C:\\Users\\anaconda\\Anaconda3\\envs\\py36\\lib\\site-packages\\ipykernel_launcher.py:22: UserWarning: Update your `Dense` call to the Keras 2 API: `Dense(activation=\"sigmoid\", units=1)`\n"
     ]
    }
   ],
   "source": [
    "print(\"compiling model...\")\n",
    "sys.stdout.flush()\n",
    "model = createModel()\n",
    "\n",
    "# print the summary of model\n",
    "from keras.utils import print_summary\n",
    "print_summary(model, line_length=None, positions=None, print_fn=None)\n"
   ]
  },
  {
   "cell_type": "code",
   "execution_count": 31,
   "metadata": {},
   "outputs": [
    {
     "data": {
      "text/plain": [
       "(75, 200, 200, 3)"
      ]
     },
     "execution_count": 31,
     "metadata": {},
     "output_type": "execute_result"
    }
   ],
   "source": [
    "Xtrain.shape"
   ]
  },
  {
   "cell_type": "code",
   "execution_count": 32,
   "metadata": {},
   "outputs": [
    {
     "name": "stdout",
     "output_type": "stream",
     "text": [
      "training network...\n",
      "Train on 75 samples, validate on 25 samples\n",
      "Epoch 1/10\n",
      "75/75 [==============================] - 37s 495ms/step - loss: 0.6925 - acc: 0.6267 - val_loss: 0.6916 - val_acc: 0.6800\n",
      "Epoch 2/10\n",
      "75/75 [==============================] - 32s 431ms/step - loss: 0.6909 - acc: 0.6800 - val_loss: 0.6902 - val_acc: 0.6800\n",
      "Epoch 3/10\n",
      "75/75 [==============================] - 33s 438ms/step - loss: 0.6895 - acc: 0.6800 - val_loss: 0.6887 - val_acc: 0.6800\n",
      "Epoch 4/10\n",
      "75/75 [==============================] - 33s 435ms/step - loss: 0.6883 - acc: 0.6800 - val_loss: 0.6872 - val_acc: 0.6800\n",
      "Epoch 5/10\n",
      "75/75 [==============================] - 32s 433ms/step - loss: 0.6868 - acc: 0.6800 - val_loss: 0.6861 - val_acc: 0.6800\n",
      "Epoch 6/10\n",
      "75/75 [==============================] - 32s 428ms/step - loss: 0.6856 - acc: 0.6800 - val_loss: 0.6848 - val_acc: 0.6800\n",
      "Epoch 7/10\n",
      "75/75 [==============================] - 33s 436ms/step - loss: 0.6843 - acc: 0.6800 - val_loss: 0.6837 - val_acc: 0.6800\n",
      "Epoch 8/10\n",
      "75/75 [==============================] - 32s 421ms/step - loss: 0.6831 - acc: 0.6800 - val_loss: 0.6826 - val_acc: 0.6800\n",
      "Epoch 9/10\n",
      "75/75 [==============================] - 32s 432ms/step - loss: 0.6821 - acc: 0.6800 - val_loss: 0.6813 - val_acc: 0.6800\n",
      "Epoch 10/10\n",
      "75/75 [==============================] - 32s 426ms/step - loss: 0.6809 - acc: 0.6800 - val_loss: 0.6801 - val_acc: 0.6800\n"
     ]
    }
   ],
   "source": [
    "# train the network\n",
    "print(\"training network...\")\n",
    "sys.stdout.flush()\n",
    "#class_mode ='categorical', # 2D one-hot encoded labels\n",
    "H = model.fit(Xtrain,trainY,batch_size=8,epochs = 10,validation_data=(valX,valY))"
   ]
  },
  {
   "cell_type": "markdown",
   "metadata": {},
   "source": [
    "# Tracking of 'loss and accuracy' vs 'epochs' "
   ]
  },
  {
   "cell_type": "code",
   "execution_count": 36,
   "metadata": {},
   "outputs": [
    {
     "name": "stdout",
     "output_type": "stream",
     "text": [
      "Generating plots...\n"
     ]
    },
    {
     "data": {
      "image/png": "[encoded data removed]",
      "text/plain": [
       "<Figure size 432x288 with 1 Axes>"
      ]
     },
     "metadata": {},
     "output_type": "display_data"
    }
   ],
   "source": [
    "# set the matplotlib backend so figures can be saved in the background\n",
    "# plot the training loss and accuracy\n",
    "print(\"Generating plots...\")\n",
    "sys.stdout.flush()\n",
    "matplotlib.use(\"Agg\")\n",
    "matplotlib.pyplot.style.use(\"ggplot\")\n",
    "matplotlib.pyplot.figure()\n",
    "N = EPOCHS\n",
    "matplotlib.pyplot.plot(np.arange(0, 10), H.history[\"loss\"], label=\"train_loss\")\n",
    "matplotlib.pyplot.plot(np.arange(0, 10), H.history[\"val_loss\"], label=\"val_loss\")\n",
    "matplotlib.pyplot.plot(np.arange(0, 10), H.history[\"acc\"], label=\"train_acc\")\n",
    "matplotlib.pyplot.plot(np.arange(0, 10), H.history[\"val_acc\"], label=\"val_acc\")\n",
    "matplotlib.pyplot.title(\"Training Loss and Accuracy on diabetic retinopathy detection\")\n",
    "matplotlib.pyplot.xlabel(\"Epoch #\")\n",
    "matplotlib.pyplot.ylabel(\"Loss/Accuracy\")\n",
    "matplotlib.pyplot.legend(loc=\"lower left\")\n",
    "matplotlib.pyplot.savefig(\"plot.png\")"
   ]
  },
  {
   "cell_type": "markdown",
   "metadata": {},
   "source": [
    "# Pretrained weights (Inception)"
   ]
  },
  {
   "cell_type": "code",
   "execution_count": 63,
   "metadata": {},
   "outputs": [],
   "source": [
    "from keras.applications.inception_v3 import InceptionV3, preprocess_input\n",
    "from keras.layers import GlobalAveragePooling2D\n",
    "from keras.models import load_model\n",
    "from keras.models import Model\n",
    "    \n",
    "# setup model\n",
    "base_model = InceptionV3(weights='imagenet', include_top=False)\n",
    "\n",
    "x = base_model.output\n",
    "x = GlobalAveragePooling2D(name='max_pool')(x)\n",
    "x = Dropout(0.4)(x)\n",
    "\n",
    "predictions = Dense(1, activation='sigmoid')(x)\n",
    "model_inc = Model(inputs=base_model.input, outputs=predictions)\n",
    "   \n",
    "# transfer learning\n",
    "for layer in base_model.layers:\n",
    "    layer.trainable = False\n",
    "      \n",
    "model_inc.compile(optimizer='adam',\n",
    "              loss='binary_crossentropy',\n",
    "              metrics=['accuracy'])"
   ]
  },
  {
   "cell_type": "code",
   "execution_count": 65,
   "metadata": {},
   "outputs": [
    {
     "name": "stdout",
     "output_type": "stream",
     "text": [
      "Train on 75 samples, validate on 25 samples\n",
      "Epoch 1/10\n",
      "75/75 [==============================] - 20s 271ms/step - loss: 0.6334 - acc: 0.6800 - val_loss: 0.6454 - val_acc: 0.6800\n",
      "Epoch 2/10\n",
      "75/75 [==============================] - 20s 269ms/step - loss: 0.6853 - acc: 0.6667 - val_loss: 0.6416 - val_acc: 0.6800\n",
      "Epoch 3/10\n",
      "75/75 [==============================] - 22s 288ms/step - loss: 0.6577 - acc: 0.6533 - val_loss: 0.6476 - val_acc: 0.6800\n",
      "Epoch 4/10\n",
      "75/75 [==============================] - 23s 304ms/step - loss: 0.6802 - acc: 0.6800 - val_loss: 0.6392 - val_acc: 0.6800\n",
      "Epoch 5/10\n",
      "75/75 [==============================] - 22s 295ms/step - loss: 0.6516 - acc: 0.6267 - val_loss: 0.6506 - val_acc: 0.6800\n",
      "Epoch 6/10\n",
      "75/75 [==============================] - 21s 282ms/step - loss: 0.6480 - acc: 0.6533 - val_loss: 0.6340 - val_acc: 0.6800\n",
      "Epoch 7/10\n",
      "75/75 [==============================] - 22s 288ms/step - loss: 0.7075 - acc: 0.6800 - val_loss: 0.6448 - val_acc: 0.6800\n",
      "Epoch 8/10\n",
      "75/75 [==============================] - 22s 298ms/step - loss: 0.6607 - acc: 0.6267 - val_loss: 0.6516 - val_acc: 0.6800\n",
      "Epoch 9/10\n",
      "75/75 [==============================] - 21s 278ms/step - loss: 0.6207 - acc: 0.6533 - val_loss: 0.6413 - val_acc: 0.6800\n",
      "Epoch 10/10\n",
      "75/75 [==============================] - 23s 309ms/step - loss: 0.6382 - acc: 0.6800 - val_loss: 0.6460 - val_acc: 0.6800\n"
     ]
    }
   ],
   "source": [
    "\n",
    "history = model_inc.fit(Xtrain,trainY,validation_data=(valX,valY),epochs=10,batch_size=8)"
   ]
  },
  {
   "cell_type": "code",
   "execution_count": null,
   "metadata": {},
   "outputs": [],
   "source": []
  },
  {
   "cell_type": "code",
   "execution_count": null,
   "metadata": {},
   "outputs": [],
   "source": []
  }
 ],
 "metadata": {
  "kernelspec": {
   "display_name": "Python 3",
   "language": "python",
   "name": "python3"
  },
  "language_info": {
   "codemirror_mode": {
    "name": "ipython",
    "version": 3
   },
   "file_extension": ".py",
   "mimetype": "text/x-python",
   "name": "python",
   "nbconvert_exporter": "python",
   "pygments_lexer": "ipython3",
   "version": "3.6.7"
  }
 },
 "nbformat": 4,
 "nbformat_minor": 2
}
